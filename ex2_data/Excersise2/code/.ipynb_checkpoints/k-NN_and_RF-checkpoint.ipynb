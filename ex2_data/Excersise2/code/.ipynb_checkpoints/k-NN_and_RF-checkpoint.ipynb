{
 "cells": [
  {
   "cell_type": "markdown",
   "metadata": {},
   "source": [
    "# Data Process class"
   ]
  },
  {
   "cell_type": "code",
   "execution_count": 2,
   "metadata": {},
   "outputs": [],
   "source": [
    "class Dataprocess:\n",
    "    def getAugmentedData(self,data):\n",
    "        _,cols = data.shape\n",
    "        ones = np.ones((1,cols))\n",
    "        data = np.vstack((ones,data))\n",
    "        return data\n",
    "    def __init__(self,data_path,label_path=None):\n",
    "        if label_path != None:\n",
    "            with open(data_path) as f:\n",
    "                self.data = np.loadtxt(f,str,skiprows=1,delimiter = \",\")[:,1:].astype(np.float64)\n",
    "                self.data = self.data.T\n",
    "            with open(label_path) as f:\n",
    "                label = np.loadtxt(f,str,skiprows=1,delimiter = \",\",usecols=(1,))[np.newaxis,:]\n",
    "                _,cols = label.shape\n",
    "                self.label = np.ones((1,cols))\n",
    "                lag = np.unique(label)[1]\n",
    "                self.label[label == lag] = 0\n",
    "                self.label = self.label.T\n",
    "        else:\n",
    "            self.data = data_path[0]\n",
    "            self.label = data_path[1]\n",
    "    def getCrossValidationData(self,k):\n",
    "        kf = KFold(n_splits=k,shuffle=True)\n",
    "        subData_train = []\n",
    "        subData_test = []\n",
    "        for train_index, test_index in kf.split(self.data):\n",
    "            #print('train_index', train_index, 'test_index', test_index)\n",
    "            train_X, train_y = self.data[train_index], self.label[train_index]\n",
    "            test_X, test_y = self.data[test_index], self.label[test_index]\n",
    "            #print(\"trainx shape\",train_X.shape,\"testx shape\",test_X.shape)\n",
    "            subdata1 = Dataprocess([train_X,train_y])\n",
    "            subdata2 = Dataprocess([test_X,test_y])\n",
    "            subData_train.append(subdata1)\n",
    "            subData_test.append(subdata2)\n",
    "        return subData_train,subData_test"
   ]
  },
  {
   "cell_type": "markdown",
   "metadata": {},
   "source": [
    "# Import a nearest neighbors classification model from sklearn"
   ]
  },
  {
   "cell_type": "markdown",
   "metadata": {},
   "source": [
    "## Import necessary module and prepare data"
   ]
  },
  {
   "cell_type": "code",
   "execution_count": 3,
   "metadata": {},
   "outputs": [],
   "source": [
    "import numpy as np\n",
    "from sklearn import neighbors\n",
    "\n",
    "trainingset_1 = Dataprocess(\"train_10gene_sub.csv\",\"train_10gene_label_sub.csv\")\n",
    "trainingset_2 = Dataprocess(\"train_10gene.csv\",\"train_label.csv\")\n",
    "testset = Dataprocess(\"test_10gene.csv\",\"test_label.csv\")\n",
    "testset_2 = Dataprocess(\"test2_10gene.csv\",\"test2_label.csv\")\n",
    "\n",
    "DataSet = {\"trainingset-1\":trainingset_1,\"trainingset-2\":trainingset_2,\"testset\":testset,\"testset-2\":testset_2}\n",
    "\n",
    "def GetTrainingDataAndTestData(name):\n",
    "    data = DataSet[name]\n",
    "    return data.data,np.squeeze(data.label)"
   ]
  },
  {
   "cell_type": "markdown",
   "metadata": {},
   "source": [
    "## Train the k-NN classifier and visualize the result"
   ]
  },
  {
   "cell_type": "code",
   "execution_count": 11,
   "metadata": {
    "scrolled": true
   },
   "outputs": [
    {
     "name": "stdout",
     "output_type": "stream",
     "text": [
      "+----------------+------------+-----------+--------------+---------------------+------------------------+\n",
      "| trainingdata&  | testdata&  |  weights& | n-neighbors& |  training accuracy& | test accuracy\\\\ \\hline |\n",
      "+----------------+------------+-----------+--------------+---------------------+------------------------+\n",
      "| trainingset-1& |  testset&  |  uniform& |      5&      |        0.925&       |         0.88\\\\         |\n",
      "| trainingset-1& |  testset&  |  uniform& |     10&      |         0.8&        |         0.8\\\\          |\n",
      "| trainingset-1& |  testset&  |  uniform& |     15&      |        0.75&        |         0.73\\\\         |\n",
      "| trainingset-1& |  testset&  |  uniform& |     20&      |        0.65&        |         0.57\\\\         |\n",
      "| trainingset-1& |  testset&  |  uniform& |     25&      |        0.65&        |         0.55\\\\         |\n",
      "| trainingset-1& |  testset&  |  uniform& |     30&      |        0.65&        |         0.55\\\\         |\n",
      "| trainingset-1& |  testset&  | distance& |      5&      |         1.0&        |         0.87\\\\         |\n",
      "| trainingset-1& |  testset&  | distance& |     10&      |         1.0&        |         0.83\\\\         |\n",
      "| trainingset-1& |  testset&  | distance& |     15&      |         1.0&        |         0.83\\\\         |\n",
      "| trainingset-1& |  testset&  | distance& |     20&      |         1.0&        |         0.71\\\\         |\n",
      "| trainingset-1& |  testset&  | distance& |     25&      |         1.0&        |         0.61\\\\         |\n",
      "| trainingset-1& |  testset&  | distance& |     30&      |         1.0&        |         0.57\\\\         |\n",
      "| trainingset-1& | testset-2& |  uniform& |      5&      |        0.925&       |  0.8403041825095057\\\\  |\n",
      "| trainingset-1& | testset-2& |  uniform& |     10&      |         0.8&        |  0.7414448669201521\\\\  |\n",
      "| trainingset-1& | testset-2& |  uniform& |     15&      |        0.75&        |  0.688212927756654\\\\   |\n",
      "| trainingset-1& | testset-2& |  uniform& |     20&      |        0.65&        |  0.5741444866920152\\\\  |\n",
      "| trainingset-1& | testset-2& |  uniform& |     25&      |        0.65&        |  0.5513307984790875\\\\  |\n",
      "| trainingset-1& | testset-2& |  uniform& |     30&      |        0.65&        |  0.5513307984790875\\\\  |\n",
      "| trainingset-1& | testset-2& | distance& |      5&      |         1.0&        |  0.8365019011406845\\\\  |\n",
      "| trainingset-1& | testset-2& | distance& |     10&      |         1.0&        |  0.7984790874524715\\\\  |\n",
      "| trainingset-1& | testset-2& | distance& |     15&      |         1.0&        |  0.7376425855513308\\\\  |\n",
      "| trainingset-1& | testset-2& | distance& |     20&      |         1.0&        |  0.6844106463878327\\\\  |\n",
      "| trainingset-1& | testset-2& | distance& |     25&      |         1.0&        |  0.5855513307984791\\\\  |\n",
      "| trainingset-1& | testset-2& | distance& |     30&      |         1.0&        |  0.5551330798479087\\\\  |\n",
      "| trainingset-2& |  testset&  |  uniform& |      5&      | 0.9471947194719472& |         0.92\\\\         |\n",
      "| trainingset-2& |  testset&  |  uniform& |     10&      | 0.9174917491749175& |         0.91\\\\         |\n",
      "| trainingset-2& |  testset&  |  uniform& |     15&      | 0.9372937293729373& |         0.93\\\\         |\n",
      "| trainingset-2& |  testset&  |  uniform& |     20&      | 0.9207920792079208& |         0.93\\\\         |\n",
      "| trainingset-2& |  testset&  |  uniform& |     25&      | 0.9306930693069307& |         0.92\\\\         |\n",
      "| trainingset-2& |  testset&  |  uniform& |     30&      | 0.9207920792079208& |         0.91\\\\         |\n",
      "| trainingset-2& |  testset&  | distance& |      5&      |         1.0&        |         0.93\\\\         |\n",
      "| trainingset-2& |  testset&  | distance& |     10&      |         1.0&        |         0.93\\\\         |\n",
      "| trainingset-2& |  testset&  | distance& |     15&      |         1.0&        |         0.93\\\\         |\n",
      "| trainingset-2& |  testset&  | distance& |     20&      |         1.0&        |         0.93\\\\         |\n",
      "| trainingset-2& |  testset&  | distance& |     25&      |         1.0&        |         0.92\\\\         |\n",
      "| trainingset-2& |  testset&  | distance& |     30&      |         1.0&        |         0.92\\\\         |\n",
      "+----------------+------------+-----------+--------------+---------------------+------------------------+\n"
     ]
    }
   ],
   "source": [
    "import prettytable as pt\n",
    "\n",
    "tb = pt.PrettyTable([\"trainingdata&\",\"testdata&\",\"weights&\",\"n-neighbors&\",\"training accuracy&\",\"test accuracy\\\\\\ \\\\hline\"])\n",
    "\n",
    "for trainingdata in [\"trainingset-1\",\"trainingset-2\"]:\n",
    "    for testdata in [\"testset\",\"testset-2\"]:\n",
    "        if trainingdata == \"trainingset-2\" and testdata == \"testset-2\":\n",
    "            continue\n",
    "        for weights in ['uniform', 'distance']:\n",
    "            #for algorithm in ['auto','ball_tree', 'kd_tree', 'brute']:\n",
    "                for n_neighbors in [5,10,15,20,25,30]:\n",
    "                    # we create an instance of Neighbours Classifier and fit the data.\n",
    "                    trainx,trainy = GetTrainingDataAndTestData(trainingdata)\n",
    "                    testx,testy = GetTrainingDataAndTestData(testdata)\n",
    "                    clf = neighbors.KNeighborsClassifier(n_neighbors, weights=weights,algorithm=\"auto\")\n",
    "                    clf.fit(trainx,trainy)\n",
    "                    train_score = clf.score(trainx,trainy)\n",
    "                    test_score = clf.score(testx,testy)\n",
    "                    \n",
    "                    tb.add_row([trainingdata+\"&\",testdata+\"&\",weights+\"&\",str(n_neighbors)+\"&\",str(train_score)+\"&\",str(test_score)+\"\\\\\\\\\"])\n",
    "                    #print(\"Using training data %s with weight %s, n_neighbors %i and algorithm %s,we can get the training score is %lf and test score on %s is %lf\"%(trainingdata,weights,n_neighbors,algorithm,train_score,testdata,test_score))\n",
    "print(tb)"
   ]
  },
  {
   "cell_type": "markdown",
   "metadata": {},
   "source": [
    "## Change the tabel to a latex version"
   ]
  },
  {
   "cell_type": "code",
   "execution_count": 12,
   "metadata": {},
   "outputs": [
    {
     "name": "stdout",
     "output_type": "stream",
     "text": [
      " trainingdata&   testdata&    weights&  n-neighbors&   training accuracy&  test accuracy\\\\ \\hline \n",
      " trainingset-1&   testset&    uniform&       5&              0.925&                0.88\\\\         \n",
      " trainingset-1&   testset&    uniform&      10&               0.8&                 0.8\\\\          \n",
      " trainingset-1&   testset&    uniform&      15&              0.75&                 0.73\\\\         \n",
      " trainingset-1&   testset&    uniform&      20&              0.65&                 0.57\\\\         \n",
      " trainingset-1&   testset&    uniform&      25&              0.65&                 0.55\\\\         \n",
      " trainingset-1&   testset&    uniform&      30&              0.65&                 0.55\\\\         \n",
      " trainingset-1&   testset&   distance&       5&               1.0&                 0.87\\\\         \n",
      " trainingset-1&   testset&   distance&      10&               1.0&                 0.83\\\\         \n",
      " trainingset-1&   testset&   distance&      15&               1.0&                 0.83\\\\         \n",
      " trainingset-1&   testset&   distance&      20&               1.0&                 0.71\\\\         \n",
      " trainingset-1&   testset&   distance&      25&               1.0&                 0.61\\\\         \n",
      " trainingset-1&   testset&   distance&      30&               1.0&                 0.57\\\\         \n",
      " trainingset-1&  testset-2&   uniform&       5&              0.925&         0.8403041825095057\\\\  \n",
      " trainingset-1&  testset-2&   uniform&      10&               0.8&          0.7414448669201521\\\\  \n",
      " trainingset-1&  testset-2&   uniform&      15&              0.75&          0.688212927756654\\\\   \n",
      " trainingset-1&  testset-2&   uniform&      20&              0.65&          0.5741444866920152\\\\  \n",
      " trainingset-1&  testset-2&   uniform&      25&              0.65&          0.5513307984790875\\\\  \n",
      " trainingset-1&  testset-2&   uniform&      30&              0.65&          0.5513307984790875\\\\  \n",
      " trainingset-1&  testset-2&  distance&       5&               1.0&          0.8365019011406845\\\\  \n",
      " trainingset-1&  testset-2&  distance&      10&               1.0&          0.7984790874524715\\\\  \n",
      " trainingset-1&  testset-2&  distance&      15&               1.0&          0.7376425855513308\\\\  \n",
      " trainingset-1&  testset-2&  distance&      20&               1.0&          0.6844106463878327\\\\  \n",
      " trainingset-1&  testset-2&  distance&      25&               1.0&          0.5855513307984791\\\\  \n",
      " trainingset-1&  testset-2&  distance&      30&               1.0&          0.5551330798479087\\\\  \n",
      " trainingset-2&   testset&    uniform&       5&       0.9471947194719472&          0.92\\\\         \n",
      " trainingset-2&   testset&    uniform&      10&       0.9174917491749175&          0.91\\\\         \n",
      " trainingset-2&   testset&    uniform&      15&       0.9372937293729373&          0.93\\\\         \n",
      " trainingset-2&   testset&    uniform&      20&       0.9207920792079208&          0.93\\\\         \n",
      " trainingset-2&   testset&    uniform&      25&       0.9306930693069307&          0.92\\\\         \n",
      " trainingset-2&   testset&    uniform&      30&       0.9207920792079208&          0.91\\\\         \n",
      " trainingset-2&   testset&   distance&       5&               1.0&                 0.93\\\\         \n",
      " trainingset-2&   testset&   distance&      10&               1.0&                 0.93\\\\         \n",
      " trainingset-2&   testset&   distance&      15&               1.0&                 0.93\\\\         \n",
      " trainingset-2&   testset&   distance&      20&               1.0&                 0.93\\\\         \n",
      " trainingset-2&   testset&   distance&      25&               1.0&                 0.92\\\\         \n",
      " trainingset-2&   testset&   distance&      30&               1.0&                 0.92\\\\         \n"
     ]
    }
   ],
   "source": [
    "tb.border=0\n",
    "print(tb)"
   ]
  },
  {
   "cell_type": "markdown",
   "metadata": {},
   "source": [
    "# Import a RF model from sklearn"
   ]
  },
  {
   "cell_type": "markdown",
   "metadata": {},
   "source": [
    "## Import necessary module"
   ]
  },
  {
   "cell_type": "code",
   "execution_count": 6,
   "metadata": {},
   "outputs": [],
   "source": [
    "from sklearn.ensemble import RandomForestClassifier"
   ]
  },
  {
   "cell_type": "markdown",
   "metadata": {},
   "source": [
    "## train RF model and visualize the result"
   ]
  },
  {
   "cell_type": "code",
   "execution_count": 9,
   "metadata": {},
   "outputs": [
    {
     "name": "stdout",
     "output_type": "stream",
     "text": [
      "+----------------+------------+------------+---------------+---------------+---------------------+------------------------+\n",
      "| trainingdata&  | testdata&  | criterion& | max_features& | n-estimators& |  training accuracy& | test accuracy\\\\ \\hline |\n",
      "+----------------+------------+------------+---------------+---------------+---------------------+------------------------+\n",
      "| trainingset-1& |  testset&  |   gini&    |     sqrt&     |       5&      |        0.975&       |         0.88\\\\         |\n",
      "| trainingset-1& |  testset&  |   gini&    |     sqrt&     |      10&      |         1.0&        |         0.87\\\\         |\n",
      "| trainingset-1& |  testset&  |   gini&    |     sqrt&     |      15&      |         1.0&        |         0.88\\\\         |\n",
      "| trainingset-1& |  testset&  |   gini&    |     sqrt&     |      20&      |         1.0&        |         0.91\\\\         |\n",
      "| trainingset-1& |  testset&  |   gini&    |     sqrt&     |      25&      |         1.0&        |         0.93\\\\         |\n",
      "| trainingset-1& |  testset&  |   gini&    |     sqrt&     |      30&      |         1.0&        |         0.89\\\\         |\n",
      "| trainingset-1& |  testset&  |   gini&    |     log2&     |       5&      |        0.975&       |         0.87\\\\         |\n",
      "| trainingset-1& |  testset&  |   gini&    |     log2&     |      10&      |         1.0&        |         0.86\\\\         |\n",
      "| trainingset-1& |  testset&  |   gini&    |     log2&     |      15&      |         1.0&        |         0.9\\\\          |\n",
      "| trainingset-1& |  testset&  |   gini&    |     log2&     |      20&      |         1.0&        |         0.92\\\\         |\n",
      "| trainingset-1& |  testset&  |   gini&    |     log2&     |      25&      |         1.0&        |         0.88\\\\         |\n",
      "| trainingset-1& |  testset&  |   gini&    |     log2&     |      30&      |         1.0&        |         0.85\\\\         |\n",
      "| trainingset-1& |  testset&  |  entropy&  |     sqrt&     |       5&      |        0.975&       |         0.92\\\\         |\n",
      "| trainingset-1& |  testset&  |  entropy&  |     sqrt&     |      10&      |        0.975&       |         0.87\\\\         |\n",
      "| trainingset-1& |  testset&  |  entropy&  |     sqrt&     |      15&      |         1.0&        |         0.93\\\\         |\n",
      "| trainingset-1& |  testset&  |  entropy&  |     sqrt&     |      20&      |         1.0&        |         0.89\\\\         |\n",
      "| trainingset-1& |  testset&  |  entropy&  |     sqrt&     |      25&      |         1.0&        |         0.92\\\\         |\n",
      "| trainingset-1& |  testset&  |  entropy&  |     sqrt&     |      30&      |         1.0&        |         0.9\\\\          |\n",
      "| trainingset-1& |  testset&  |  entropy&  |     log2&     |       5&      |         1.0&        |         0.88\\\\         |\n",
      "| trainingset-1& |  testset&  |  entropy&  |     log2&     |      10&      |        0.975&       |         0.89\\\\         |\n",
      "| trainingset-1& |  testset&  |  entropy&  |     log2&     |      15&      |         1.0&        |         0.86\\\\         |\n",
      "| trainingset-1& |  testset&  |  entropy&  |     log2&     |      20&      |         1.0&        |         0.9\\\\          |\n",
      "| trainingset-1& |  testset&  |  entropy&  |     log2&     |      25&      |         1.0&        |         0.88\\\\         |\n",
      "| trainingset-1& |  testset&  |  entropy&  |     log2&     |      30&      |         1.0&        |         0.88\\\\         |\n",
      "| trainingset-1& | testset-2& |   gini&    |     sqrt&     |       5&      |        0.975&       |  0.844106463878327\\\\   |\n",
      "| trainingset-1& | testset-2& |   gini&    |     sqrt&     |      10&      |         1.0&        |  0.8631178707224335\\\\  |\n",
      "| trainingset-1& | testset-2& |   gini&    |     sqrt&     |      15&      |         1.0&        |  0.844106463878327\\\\   |\n",
      "| trainingset-1& | testset-2& |   gini&    |     sqrt&     |      20&      |         1.0&        |  0.8288973384030418\\\\  |\n",
      "| trainingset-1& | testset-2& |   gini&    |     sqrt&     |      25&      |         1.0&        |  0.8593155893536122\\\\  |\n",
      "| trainingset-1& | testset-2& |   gini&    |     sqrt&     |      30&      |         1.0&        |  0.8821292775665399\\\\  |\n",
      "| trainingset-1& | testset-2& |   gini&    |     log2&     |       5&      |         1.0&        |  0.8250950570342205\\\\  |\n",
      "| trainingset-1& | testset-2& |   gini&    |     log2&     |      10&      |         1.0&        |  0.8555133079847909\\\\  |\n",
      "| trainingset-1& | testset-2& |   gini&    |     log2&     |      15&      |         1.0&        |  0.8821292775665399\\\\  |\n",
      "| trainingset-1& | testset-2& |   gini&    |     log2&     |      20&      |         1.0&        |  0.8783269961977186\\\\  |\n",
      "| trainingset-1& | testset-2& |   gini&    |     log2&     |      25&      |         1.0&        |  0.8669201520912547\\\\  |\n",
      "| trainingset-1& | testset-2& |   gini&    |     log2&     |      30&      |         1.0&        |  0.8821292775665399\\\\  |\n",
      "| trainingset-1& | testset-2& |  entropy&  |     sqrt&     |       5&      |        0.95&        |  0.8593155893536122\\\\  |\n",
      "| trainingset-1& | testset-2& |  entropy&  |     sqrt&     |      10&      |         1.0&        |  0.8745247148288974\\\\  |\n",
      "| trainingset-1& | testset-2& |  entropy&  |     sqrt&     |      15&      |        0.975&       |  0.8517110266159695\\\\  |\n",
      "| trainingset-1& | testset-2& |  entropy&  |     sqrt&     |      20&      |         1.0&        |  0.8250950570342205\\\\  |\n",
      "| trainingset-1& | testset-2& |  entropy&  |     sqrt&     |      25&      |         1.0&        |  0.8783269961977186\\\\  |\n",
      "| trainingset-1& | testset-2& |  entropy&  |     sqrt&     |      30&      |         1.0&        |  0.8555133079847909\\\\  |\n",
      "| trainingset-1& | testset-2& |  entropy&  |     log2&     |       5&      |         1.0&        |  0.8403041825095057\\\\  |\n",
      "| trainingset-1& | testset-2& |  entropy&  |     log2&     |      10&      |         1.0&        |  0.8631178707224335\\\\  |\n",
      "| trainingset-1& | testset-2& |  entropy&  |     log2&     |      15&      |         1.0&        |  0.8935361216730038\\\\  |\n",
      "| trainingset-1& | testset-2& |  entropy&  |     log2&     |      20&      |         1.0&        |  0.8365019011406845\\\\  |\n",
      "| trainingset-1& | testset-2& |  entropy&  |     log2&     |      25&      |         1.0&        |  0.8897338403041825\\\\  |\n",
      "| trainingset-1& | testset-2& |  entropy&  |     log2&     |      30&      |         1.0&        |  0.8593155893536122\\\\  |\n",
      "| trainingset-2& |  testset&  |   gini&    |     sqrt&     |       5&      | 0.9900990099009901& |         0.89\\\\         |\n",
      "| trainingset-2& |  testset&  |   gini&    |     sqrt&     |      10&      | 0.9966996699669967& |         0.91\\\\         |\n",
      "| trainingset-2& |  testset&  |   gini&    |     sqrt&     |      15&      | 0.9966996699669967& |         0.92\\\\         |\n",
      "| trainingset-2& |  testset&  |   gini&    |     sqrt&     |      20&      |         1.0&        |         0.92\\\\         |\n",
      "| trainingset-2& |  testset&  |   gini&    |     sqrt&     |      25&      |         1.0&        |         0.93\\\\         |\n",
      "| trainingset-2& |  testset&  |   gini&    |     sqrt&     |      30&      |         1.0&        |         0.93\\\\         |\n",
      "| trainingset-2& |  testset&  |   gini&    |     log2&     |       5&      | 0.9966996699669967& |         0.9\\\\          |\n",
      "| trainingset-2& |  testset&  |   gini&    |     log2&     |      10&      | 0.9966996699669967& |         0.89\\\\         |\n",
      "| trainingset-2& |  testset&  |   gini&    |     log2&     |      15&      | 0.9966996699669967& |         0.93\\\\         |\n",
      "| trainingset-2& |  testset&  |   gini&    |     log2&     |      20&      |         1.0&        |         0.93\\\\         |\n",
      "| trainingset-2& |  testset&  |   gini&    |     log2&     |      25&      |         1.0&        |         0.93\\\\         |\n",
      "| trainingset-2& |  testset&  |   gini&    |     log2&     |      30&      |         1.0&        |         0.93\\\\         |\n",
      "| trainingset-2& |  testset&  |  entropy&  |     sqrt&     |       5&      | 0.9867986798679867& |         0.9\\\\          |\n",
      "| trainingset-2& |  testset&  |  entropy&  |     sqrt&     |      10&      | 0.9900990099009901& |         0.92\\\\         |\n",
      "| trainingset-2& |  testset&  |  entropy&  |     sqrt&     |      15&      |         1.0&        |         0.94\\\\         |\n",
      "| trainingset-2& |  testset&  |  entropy&  |     sqrt&     |      20&      |         1.0&        |         0.94\\\\         |\n",
      "| trainingset-2& |  testset&  |  entropy&  |     sqrt&     |      25&      |         1.0&        |         0.95\\\\         |\n",
      "| trainingset-2& |  testset&  |  entropy&  |     sqrt&     |      30&      |         1.0&        |         0.93\\\\         |\n",
      "| trainingset-2& |  testset&  |  entropy&  |     log2&     |       5&      | 0.9933993399339934& |         0.9\\\\          |\n",
      "| trainingset-2& |  testset&  |  entropy&  |     log2&     |      10&      | 0.9900990099009901& |         0.92\\\\         |\n",
      "| trainingset-2& |  testset&  |  entropy&  |     log2&     |      15&      |         1.0&        |         0.93\\\\         |\n",
      "| trainingset-2& |  testset&  |  entropy&  |     log2&     |      20&      | 0.9933993399339934& |         0.93\\\\         |\n",
      "| trainingset-2& |  testset&  |  entropy&  |     log2&     |      25&      |         1.0&        |         0.91\\\\         |\n",
      "| trainingset-2& |  testset&  |  entropy&  |     log2&     |      30&      |         1.0&        |         0.93\\\\         |\n",
      "+----------------+------------+------------+---------------+---------------+---------------------+------------------------+\n"
     ]
    }
   ],
   "source": [
    "tb = pt.PrettyTable([\"trainingdata&\",\"testdata&\",\"criterion&\",\"max_features&\",\"n-estimators&\",\"training accuracy&\",\"test accuracy\\\\\\ \\\\hline\"])\n",
    "\n",
    "for trainingdata in [\"trainingset-1\",\"trainingset-2\"]:\n",
    "    for testdata in [\"testset\",\"testset-2\"]:\n",
    "        if trainingdata == \"trainingset-2\" and testdata == \"testset-2\":\n",
    "            continue\n",
    "        for criterion in ['gini', 'entropy']:\n",
    "            for max_features in ['sqrt','log2']:\n",
    "            #for algorithm in ['auto','ball_tree', 'kd_tree', 'brute']:\n",
    "                for n_estimators in [5,10,15,20,25,30]:\n",
    "                    # we create an instance of Neighbours Classifier and fit the data.\n",
    "                    trainx,trainy = GetTrainingDataAndTestData(trainingdata)\n",
    "                    testx,testy = GetTrainingDataAndTestData(testdata)\n",
    "                    clf = RandomForestClassifier(n_estimators=n_estimators,criterion=criterion,max_features=max_features)\n",
    "                    clf.fit(trainx,trainy)\n",
    "                    train_score = clf.score(trainx,trainy)\n",
    "                    test_score = clf.score(testx,testy)\n",
    "                    tb.add_row([trainingdata+\"&\",testdata+\"&\",criterion+\"&\",max_features+\"&\",str(n_estimators)+\"&\",str(train_score)+\"&\",str(test_score)+\"\\\\\\\\\"])\n",
    "print(tb)"
   ]
  },
  {
   "cell_type": "code",
   "execution_count": 10,
   "metadata": {},
   "outputs": [
    {
     "name": "stdout",
     "output_type": "stream",
     "text": [
      " trainingdata&   testdata&   criterion&  max_features&  n-estimators&   training accuracy&  test accuracy\\\\ \\hline \n",
      " trainingset-1&   testset&     gini&         sqrt&            5&              0.975&                0.88\\\\         \n",
      " trainingset-1&   testset&     gini&         sqrt&           10&               1.0&                 0.87\\\\         \n",
      " trainingset-1&   testset&     gini&         sqrt&           15&               1.0&                 0.88\\\\         \n",
      " trainingset-1&   testset&     gini&         sqrt&           20&               1.0&                 0.91\\\\         \n",
      " trainingset-1&   testset&     gini&         sqrt&           25&               1.0&                 0.93\\\\         \n",
      " trainingset-1&   testset&     gini&         sqrt&           30&               1.0&                 0.89\\\\         \n",
      " trainingset-1&   testset&     gini&         log2&            5&              0.975&                0.87\\\\         \n",
      " trainingset-1&   testset&     gini&         log2&           10&               1.0&                 0.86\\\\         \n",
      " trainingset-1&   testset&     gini&         log2&           15&               1.0&                 0.9\\\\          \n",
      " trainingset-1&   testset&     gini&         log2&           20&               1.0&                 0.92\\\\         \n",
      " trainingset-1&   testset&     gini&         log2&           25&               1.0&                 0.88\\\\         \n",
      " trainingset-1&   testset&     gini&         log2&           30&               1.0&                 0.85\\\\         \n",
      " trainingset-1&   testset&    entropy&       sqrt&            5&              0.975&                0.92\\\\         \n",
      " trainingset-1&   testset&    entropy&       sqrt&           10&              0.975&                0.87\\\\         \n",
      " trainingset-1&   testset&    entropy&       sqrt&           15&               1.0&                 0.93\\\\         \n",
      " trainingset-1&   testset&    entropy&       sqrt&           20&               1.0&                 0.89\\\\         \n",
      " trainingset-1&   testset&    entropy&       sqrt&           25&               1.0&                 0.92\\\\         \n",
      " trainingset-1&   testset&    entropy&       sqrt&           30&               1.0&                 0.9\\\\          \n",
      " trainingset-1&   testset&    entropy&       log2&            5&               1.0&                 0.88\\\\         \n",
      " trainingset-1&   testset&    entropy&       log2&           10&              0.975&                0.89\\\\         \n",
      " trainingset-1&   testset&    entropy&       log2&           15&               1.0&                 0.86\\\\         \n",
      " trainingset-1&   testset&    entropy&       log2&           20&               1.0&                 0.9\\\\          \n",
      " trainingset-1&   testset&    entropy&       log2&           25&               1.0&                 0.88\\\\         \n",
      " trainingset-1&   testset&    entropy&       log2&           30&               1.0&                 0.88\\\\         \n",
      " trainingset-1&  testset-2&    gini&         sqrt&            5&              0.975&         0.844106463878327\\\\   \n",
      " trainingset-1&  testset-2&    gini&         sqrt&           10&               1.0&          0.8631178707224335\\\\  \n",
      " trainingset-1&  testset-2&    gini&         sqrt&           15&               1.0&          0.844106463878327\\\\   \n",
      " trainingset-1&  testset-2&    gini&         sqrt&           20&               1.0&          0.8288973384030418\\\\  \n",
      " trainingset-1&  testset-2&    gini&         sqrt&           25&               1.0&          0.8593155893536122\\\\  \n",
      " trainingset-1&  testset-2&    gini&         sqrt&           30&               1.0&          0.8821292775665399\\\\  \n",
      " trainingset-1&  testset-2&    gini&         log2&            5&               1.0&          0.8250950570342205\\\\  \n",
      " trainingset-1&  testset-2&    gini&         log2&           10&               1.0&          0.8555133079847909\\\\  \n",
      " trainingset-1&  testset-2&    gini&         log2&           15&               1.0&          0.8821292775665399\\\\  \n",
      " trainingset-1&  testset-2&    gini&         log2&           20&               1.0&          0.8783269961977186\\\\  \n",
      " trainingset-1&  testset-2&    gini&         log2&           25&               1.0&          0.8669201520912547\\\\  \n",
      " trainingset-1&  testset-2&    gini&         log2&           30&               1.0&          0.8821292775665399\\\\  \n",
      " trainingset-1&  testset-2&   entropy&       sqrt&            5&              0.95&          0.8593155893536122\\\\  \n",
      " trainingset-1&  testset-2&   entropy&       sqrt&           10&               1.0&          0.8745247148288974\\\\  \n",
      " trainingset-1&  testset-2&   entropy&       sqrt&           15&              0.975&         0.8517110266159695\\\\  \n",
      " trainingset-1&  testset-2&   entropy&       sqrt&           20&               1.0&          0.8250950570342205\\\\  \n",
      " trainingset-1&  testset-2&   entropy&       sqrt&           25&               1.0&          0.8783269961977186\\\\  \n",
      " trainingset-1&  testset-2&   entropy&       sqrt&           30&               1.0&          0.8555133079847909\\\\  \n",
      " trainingset-1&  testset-2&   entropy&       log2&            5&               1.0&          0.8403041825095057\\\\  \n",
      " trainingset-1&  testset-2&   entropy&       log2&           10&               1.0&          0.8631178707224335\\\\  \n",
      " trainingset-1&  testset-2&   entropy&       log2&           15&               1.0&          0.8935361216730038\\\\  \n",
      " trainingset-1&  testset-2&   entropy&       log2&           20&               1.0&          0.8365019011406845\\\\  \n",
      " trainingset-1&  testset-2&   entropy&       log2&           25&               1.0&          0.8897338403041825\\\\  \n",
      " trainingset-1&  testset-2&   entropy&       log2&           30&               1.0&          0.8593155893536122\\\\  \n",
      " trainingset-2&   testset&     gini&         sqrt&            5&       0.9900990099009901&          0.89\\\\         \n",
      " trainingset-2&   testset&     gini&         sqrt&           10&       0.9966996699669967&          0.91\\\\         \n",
      " trainingset-2&   testset&     gini&         sqrt&           15&       0.9966996699669967&          0.92\\\\         \n",
      " trainingset-2&   testset&     gini&         sqrt&           20&               1.0&                 0.92\\\\         \n",
      " trainingset-2&   testset&     gini&         sqrt&           25&               1.0&                 0.93\\\\         \n",
      " trainingset-2&   testset&     gini&         sqrt&           30&               1.0&                 0.93\\\\         \n",
      " trainingset-2&   testset&     gini&         log2&            5&       0.9966996699669967&          0.9\\\\          \n",
      " trainingset-2&   testset&     gini&         log2&           10&       0.9966996699669967&          0.89\\\\         \n",
      " trainingset-2&   testset&     gini&         log2&           15&       0.9966996699669967&          0.93\\\\         \n",
      " trainingset-2&   testset&     gini&         log2&           20&               1.0&                 0.93\\\\         \n",
      " trainingset-2&   testset&     gini&         log2&           25&               1.0&                 0.93\\\\         \n",
      " trainingset-2&   testset&     gini&         log2&           30&               1.0&                 0.93\\\\         \n",
      " trainingset-2&   testset&    entropy&       sqrt&            5&       0.9867986798679867&          0.9\\\\          \n",
      " trainingset-2&   testset&    entropy&       sqrt&           10&       0.9900990099009901&          0.92\\\\         \n",
      " trainingset-2&   testset&    entropy&       sqrt&           15&               1.0&                 0.94\\\\         \n",
      " trainingset-2&   testset&    entropy&       sqrt&           20&               1.0&                 0.94\\\\         \n",
      " trainingset-2&   testset&    entropy&       sqrt&           25&               1.0&                 0.95\\\\         \n",
      " trainingset-2&   testset&    entropy&       sqrt&           30&               1.0&                 0.93\\\\         \n",
      " trainingset-2&   testset&    entropy&       log2&            5&       0.9933993399339934&          0.9\\\\          \n",
      " trainingset-2&   testset&    entropy&       log2&           10&       0.9900990099009901&          0.92\\\\         \n",
      " trainingset-2&   testset&    entropy&       log2&           15&               1.0&                 0.93\\\\         \n",
      " trainingset-2&   testset&    entropy&       log2&           20&       0.9933993399339934&          0.93\\\\         \n",
      " trainingset-2&   testset&    entropy&       log2&           25&               1.0&                 0.91\\\\         \n",
      " trainingset-2&   testset&    entropy&       log2&           30&               1.0&                 0.93\\\\         \n"
     ]
    }
   ],
   "source": [
    "tb.border=0\n",
    "print(tb)"
   ]
  }
 ],
 "metadata": {
  "kernelspec": {
   "display_name": "Python 3",
   "language": "python",
   "name": "python3"
  },
  "language_info": {
   "codemirror_mode": {
    "name": "ipython",
    "version": 3
   },
   "file_extension": ".py",
   "mimetype": "text/x-python",
   "name": "python",
   "nbconvert_exporter": "python",
   "pygments_lexer": "ipython3",
   "version": "3.7.4"
  }
 },
 "nbformat": 4,
 "nbformat_minor": 2
}
